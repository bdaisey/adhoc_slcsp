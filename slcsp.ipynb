{
 "cells": [
  {
   "cell_type": "code",
   "execution_count": 41,
   "metadata": {},
   "outputs": [
    {
     "name": "stdout",
     "output_type": "stream",
     "text": [
      "zipcode,rate\n",
      "64148,245.20\n",
      "67118,212.35\n",
      "40813,\n",
      "18229,231.48\n",
      "51012,252.76\n",
      "79168,243.68\n",
      "54923,\n",
      "67651,249.44\n",
      "49448,221.63\n",
      "27702,283.08\n",
      "47387,326.98\n",
      "50014,287.30\n",
      "33608,268.49\n",
      "06239,\n",
      "54919,243.77\n",
      "46706,\n",
      "14846,\n",
      "48872,\n",
      "43343,\n",
      "77052,243.72\n",
      "07734,\n",
      "95327,\n",
      "12961,\n",
      "26716,291.76\n",
      "48435,\n",
      "53181,306.56\n",
      "52654,242.39\n",
      "58703,297.93\n",
      "91945,\n",
      "52146,254.56\n",
      "56097,\n",
      "21777,\n",
      "42330,\n",
      "38849,285.69\n",
      "77586,243.72\n",
      "39745,265.73\n",
      "03299,240.45\n",
      "63359,\n",
      "60094,209.95\n",
      "15935,184.97\n",
      "39845,325.64\n",
      "48418,\n",
      "28411,307.51\n",
      "37333,219.29\n",
      "75939,234.50\n",
      "07184,\n",
      "86313,292.90\n",
      "61232,222.38\n",
      "20047,\n",
      "47452,\n",
      "31551,290.60\n"
     ]
    }
   ],
   "source": [
    "from collections import defaultdict\n",
    "import csv\n",
    "\n",
    "# organize plans.csv by state and rate area with corresponding plan costs\n",
    "# rates['<state> <rate area>'] = [<cost1>, <cost2>, ...]\n",
    "# rates['MD 1'] = [195.54, 245.42, ...]\n",
    "rates = defaultdict(list)\n",
    "\n",
    "with open('plans.csv') as csvfile:\n",
    "    planreader = csv.reader(csvfile)\n",
    "    for row in planreader:\n",
    "        if row[2] == 'Silver':  # only keep Silver plans\n",
    "            key = f'{row[1]} {row[4]}'\n",
    "            value = float(row[3])\n",
    "            rates[key].append(value)\n",
    "\n",
    "# organize zips.csv by the states and rate areas each zipcode contains\n",
    "# zips_areas['<zipcode>'] = ['<state> <rate area1>', '<state> <rate area2>', ...]\n",
    "# zips_areas['64148'] = ['MO 3', 'MO 3', ...]\n",
    "zips_areas = defaultdict(list)\n",
    "\n",
    "with open('zips.csv') as csvfile:\n",
    "    zipreader = csv.reader(csvfile)\n",
    "    for row in zipreader:\n",
    "        zips_areas[row[0]].append(f'{row[1]} {row[4]}')\n",
    "\n",
    "# iterate list of target zipcodes\n",
    "with open('slcsp.csv') as csvfile:\n",
    "    slcspreader = csv.reader(csvfile)\n",
    "    header_row = next(slcspreader)\n",
    "    print(f'{header_row[0]},{header_row[1]}')\n",
    "\n",
    "    for row in slcspreader:\n",
    "        zipcode = row[0]\n",
    "        target_state_area = zips_areas[zipcode]\n",
    "        slcsp_result = ''\n",
    "        # check that the zipcode only contains ONE rate area\n",
    "        if len(set(target_state_area)) == 1:\n",
    "            target_in_rates = target_state_area[0]\n",
    "            # use set() to deduplicate in case 2 plans have the same cost\n",
    "            plan_costs = sorted(list(set(rates[target_in_rates])))\n",
    "            # check that there are at least 2 remaining plan costs\n",
    "            if len(plan_costs) > 1:\n",
    "                slcsp_result = format(plan_costs[1], '.2f')\n",
    "        print(f'{zipcode},{slcsp_result}')\n",
    "\n"
   ]
  },
  {
   "cell_type": "code",
   "execution_count": 34,
   "metadata": {},
   "outputs": [
    {
     "data": {
      "text/plain": [
       "[290.05,\n",
       " 234.6,\n",
       " 265.82,\n",
       " 251.08,\n",
       " 351.6,\n",
       " 312.06,\n",
       " 245.2,\n",
       " 265.25,\n",
       " 253.65,\n",
       " 319.57,\n",
       " 271.64,\n",
       " 298.87,\n",
       " 341.24]"
      ]
     },
     "execution_count": 34,
     "metadata": {},
     "output_type": "execute_result"
    }
   ],
   "source": [
    "rates['MO 3']"
   ]
  },
  {
   "cell_type": "code",
   "execution_count": 32,
   "metadata": {},
   "outputs": [
    {
     "name": "stdout",
     "output_type": "stream",
     "text": [
      "              plan_id state metal_level    rate  rate_area\n",
      "1869   99250FA3947215    AK      Silver  580.00          1\n",
      "11205  06457YA5248140    AK      Silver  580.00          1\n",
      "2156   11285MV9931371    AK      Silver  597.00          1\n",
      "14962  37602UK5242536    AK      Silver  604.00          1\n",
      "5393   62631IG9187646    AK      Silver  635.00          1\n",
      "...               ...   ...         ...     ...        ...\n",
      "16657  13916VW1667363    WY      Silver  459.90          3\n",
      "19953  87833TJ6747514    WY      Silver  460.70          3\n",
      "18521  90159DP5780918    WY      Silver  460.80          3\n",
      "12264  11627YY2333295    WY      Silver  462.90          3\n",
      "16256  73764JX6207447    WY      Silver  470.35          3\n",
      "\n",
      "[8462 rows x 5 columns]\n"
     ]
    }
   ],
   "source": [
    "import pandas as pd\n",
    "\n",
    "df = pd.read_csv('plans.csv')\n",
    "\n",
    "df = df[df['metal_level'] == 'Silver']\n",
    "df.sort_values(['state','rate_area','rate'],axis=0, ascending=True,inplace=True,na_position='first')\n",
    "\n",
    "df.to_csv('silver_plans_sorted.csv', index=False)\n",
    "print(df)"
   ]
  },
  {
   "cell_type": "markdown",
   "metadata": {},
   "source": []
  }
 ],
 "metadata": {
  "kernelspec": {
   "display_name": "Python 3",
   "language": "python",
   "name": "python3"
  },
  "language_info": {
   "codemirror_mode": {
    "name": "ipython",
    "version": 3
   },
   "file_extension": ".py",
   "mimetype": "text/x-python",
   "name": "python",
   "nbconvert_exporter": "python",
   "pygments_lexer": "ipython3",
   "version": "3.11.5"
  }
 },
 "nbformat": 4,
 "nbformat_minor": 2
}
