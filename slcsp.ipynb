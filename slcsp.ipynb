{
 "cells": [
  {
   "cell_type": "code",
   "execution_count": 27,
   "metadata": {},
   "outputs": [
    {
     "name": "stdout",
     "output_type": "stream",
     "text": [
      "zipcode,\n",
      "\n",
      "64148,234.60\n",
      "\n",
      "67118,236.85\n",
      "\n",
      "40813,\n",
      "\n",
      "18229,390.55\n",
      "\n",
      "51012,366.00\n",
      "\n",
      "79168,309.88\n",
      "\n",
      "54923,\n",
      "\n",
      "67651,264.00\n",
      "\n",
      "49448,267.70\n",
      "\n",
      "27702,283.08\n",
      "\n",
      "47387,360.16\n",
      "\n",
      "50014,273.76\n",
      "\n",
      "33608,284.96\n",
      "\n",
      "06239,\n",
      "\n",
      "54919,330.08\n",
      "\n",
      "46706,\n",
      "\n",
      "14846,\n",
      "\n",
      "48872,\n",
      "\n",
      "43343,\n",
      "\n",
      "77052,428.95\n",
      "\n",
      "07734,\n",
      "\n",
      "95327,\n",
      "\n",
      "12961,\n",
      "\n",
      "26716,295.05\n",
      "\n",
      "48435,\n",
      "\n",
      "53181,293.11\n",
      "\n",
      "52654,291.60\n",
      "\n",
      "58703,314.78\n",
      "\n",
      "91945,\n",
      "\n",
      "52146,254.56\n",
      "\n",
      "56097,\n",
      "\n",
      "21777,\n",
      "\n",
      "42330,\n",
      "\n",
      "38849,322.52\n",
      "\n",
      "77586,428.95\n",
      "\n",
      "39745,280.85\n",
      "\n",
      "03299,289.53\n",
      "\n",
      "63359,\n",
      "\n",
      "60094,239.76\n",
      "\n",
      "15935,249.85\n",
      "\n",
      "39845,401.51\n",
      "\n",
      "48418,\n",
      "\n",
      "28411,312.65\n",
      "\n",
      "37333,210.66\n",
      "\n",
      "75939,275.04\n",
      "\n",
      "07184,\n",
      "\n",
      "86313,314.99\n",
      "\n",
      "61232,310.52\n",
      "\n",
      "20047,\n",
      "\n",
      "47452,\n",
      "\n",
      "31551,306.07\n",
      "\n"
     ]
    }
   ],
   "source": [
    "from collections import defaultdict\n",
    "import csv\n",
    "\n",
    "rates = defaultdict(list)\n",
    "\n",
    "with open('plans.csv') as csvfile:\n",
    "    planreader = csv.reader(csvfile)\n",
    "    for row in planreader:\n",
    "        if row[2] == 'Silver':\n",
    "            key = f'{row[1]} {row[4]}'\n",
    "            value = float(row[3])\n",
    "            rates[key].append(value)\n",
    "\n",
    "\n",
    "zips_areas = defaultdict(list)\n",
    "\n",
    "with open('zips.csv') as csvfile:\n",
    "    zipreader = csv.reader(csvfile)\n",
    "    for row in zipreader:\n",
    "        zips_areas[row[0]].append(f'{row[1]} {row[4]}')\n",
    "\n",
    "with open('slcsp.csv') as csvfile:\n",
    "    slcspreader = csv.reader(csvfile)\n",
    "    for row in slcspreader:\n",
    "        zipcode = row[0]\n",
    "        target_state_area = zips_areas[zipcode]\n",
    "        slcsp_result = ''\n",
    "        if len(set(target_state_area)) == 1:\n",
    "            target_in_rates = target_state_area[0]\n",
    "            plan_costs = rates[target_in_rates]\n",
    "            if len(plan_costs) > 1:\n",
    "                slcsp_result = format(plan_costs[1], '.2f')\n",
    "        print(f'{zipcode},{slcsp_result}\\n')\n",
    "\n"
   ]
  },
  {
   "cell_type": "code",
   "execution_count": 24,
   "metadata": {},
   "outputs": [
    {
     "ename": "IndexError",
     "evalue": "list index out of range",
     "output_type": "error",
     "traceback": [
      "\u001b[0;31m---------------------------------------------------------------------------\u001b[0m",
      "\u001b[0;31mIndexError\u001b[0m                                Traceback (most recent call last)",
      "\u001b[1;32m/Users/briandaisey/Documents/adhoc_slcsp/slcsp.ipynb Cell 2\u001b[0m line \u001b[0;36m1\n\u001b[0;32m----> <a href='vscode-notebook-cell:/Users/briandaisey/Documents/adhoc_slcsp/slcsp.ipynb#W1sZmlsZQ%3D%3D?line=0'>1</a>\u001b[0m \u001b[39msorted\u001b[39;49m(rates[\u001b[39m'\u001b[39;49m\u001b[39mBB 6\u001b[39;49m\u001b[39m'\u001b[39;49m])[\u001b[39m1\u001b[39;49m]\n",
      "\u001b[0;31mIndexError\u001b[0m: list index out of range"
     ]
    }
   ],
   "source": [
    "sorted(rates['BB 6'])[1]"
   ]
  },
  {
   "cell_type": "code",
   "execution_count": 13,
   "metadata": {},
   "outputs": [],
   "source": [
    "zips_areas = defaultdict(list)\n",
    "\n",
    "with open('zips.csv') as csvfile:\n",
    "    zipreader = csv.reader(csvfile)\n",
    "    for row in zipreader:\n",
    "        zips_areas[row[0]].append(f'{row[1]} {row[4]}')"
   ]
  },
  {
   "cell_type": "code",
   "execution_count": 14,
   "metadata": {},
   "outputs": [
    {
     "data": {
      "text/plain": [
       "['KS 6', 'KS 6', 'KS 6', 'KS 6']"
      ]
     },
     "execution_count": 14,
     "metadata": {},
     "output_type": "execute_result"
    }
   ],
   "source": [
    "zips_areas['67118']"
   ]
  },
  {
   "cell_type": "code",
   "execution_count": 15,
   "metadata": {},
   "outputs": [
    {
     "data": {
      "text/plain": [
       "True"
      ]
     },
     "execution_count": 15,
     "metadata": {},
     "output_type": "execute_result"
    }
   ],
   "source": [
    "len(set(zips_areas['67118'])) == 1"
   ]
  },
  {
   "cell_type": "code",
   "execution_count": 11,
   "metadata": {},
   "outputs": [
    {
     "data": {
      "text/plain": [
       "'6'"
      ]
     },
     "execution_count": 11,
     "metadata": {},
     "output_type": "execute_result"
    }
   ],
   "source": [
    "zips_areas['67118'][0]"
   ]
  },
  {
   "cell_type": "code",
   "execution_count": 25,
   "metadata": {},
   "outputs": [
    {
     "data": {
      "text/plain": [
       "'213.45'"
      ]
     },
     "execution_count": 25,
     "metadata": {},
     "output_type": "execute_result"
    }
   ],
   "source": [
    "res = 213.45433\n",
    "fmt = format(res, '.2f')\n",
    "fmt"
   ]
  },
  {
   "cell_type": "markdown",
   "metadata": {},
   "source": []
  }
 ],
 "metadata": {
  "kernelspec": {
   "display_name": "Python 3",
   "language": "python",
   "name": "python3"
  },
  "language_info": {
   "codemirror_mode": {
    "name": "ipython",
    "version": 3
   },
   "file_extension": ".py",
   "mimetype": "text/x-python",
   "name": "python",
   "nbconvert_exporter": "python",
   "pygments_lexer": "ipython3",
   "version": "3.11.5"
  }
 },
 "nbformat": 4,
 "nbformat_minor": 2
}
